{
 "cells": [
  {
   "cell_type": "markdown",
   "metadata": {},
   "source": [
    "# Amazon product review sentiment analysis using Logistic Regression and Linear SVC \n"
   ]
  },
  {
   "cell_type": "markdown",
   "metadata": {},
   "source": [
    "### Exploring our data-set"
   ]
  },
  {
   "cell_type": "code",
   "execution_count": 2,
   "metadata": {},
   "outputs": [],
   "source": [
    "\n",
    "import pandas as pd \n",
    "import numpy as np \n",
    "import matplotlib.pyplot as plt\n",
    "from sklearn.model_selection import train_test_split\n",
    "from sklearn.feature_extraction.text import TfidfVectorizer, TfidfTransformer\n",
    "from sklearn.svm import LinearSVC\n",
    "from sklearn.pipeline import Pipeline \n",
    "from sklearn.metrics import accuracy_score, confusion_matrix, classification_report,ConfusionMatrixDisplay\n",
    "import seaborn as sns\n",
    "\n"
   ]
  },
  {
   "cell_type": "code",
   "execution_count": 3,
   "metadata": {},
   "outputs": [
    {
     "data": {
      "text/html": [
       "<div>\n",
       "<style scoped>\n",
       "    .dataframe tbody tr th:only-of-type {\n",
       "        vertical-align: middle;\n",
       "    }\n",
       "\n",
       "    .dataframe tbody tr th {\n",
       "        vertical-align: top;\n",
       "    }\n",
       "\n",
       "    .dataframe thead th {\n",
       "        text-align: right;\n",
       "    }\n",
       "</style>\n",
       "<table border=\"1\" class=\"dataframe\">\n",
       "  <thead>\n",
       "    <tr style=\"text-align: right;\">\n",
       "      <th></th>\n",
       "      <th>label</th>\n",
       "      <th>review</th>\n",
       "    </tr>\n",
       "  </thead>\n",
       "  <tbody>\n",
       "    <tr>\n",
       "      <th>0</th>\n",
       "      <td>pos</td>\n",
       "      <td>Stuning even for the non-gamer: This sound tra...</td>\n",
       "    </tr>\n",
       "    <tr>\n",
       "      <th>1</th>\n",
       "      <td>pos</td>\n",
       "      <td>The best soundtrack ever to anything.: I'm rea...</td>\n",
       "    </tr>\n",
       "    <tr>\n",
       "      <th>2</th>\n",
       "      <td>pos</td>\n",
       "      <td>Amazing!: This soundtrack is my favorite music...</td>\n",
       "    </tr>\n",
       "    <tr>\n",
       "      <th>3</th>\n",
       "      <td>pos</td>\n",
       "      <td>Excellent Soundtrack: I truly like this soundt...</td>\n",
       "    </tr>\n",
       "    <tr>\n",
       "      <th>4</th>\n",
       "      <td>pos</td>\n",
       "      <td>Remember, Pull Your Jaw Off The Floor After He...</td>\n",
       "    </tr>\n",
       "  </tbody>\n",
       "</table>\n",
       "</div>"
      ],
      "text/plain": [
       "  label                                             review\n",
       "0   pos  Stuning even for the non-gamer: This sound tra...\n",
       "1   pos  The best soundtrack ever to anything.: I'm rea...\n",
       "2   pos  Amazing!: This soundtrack is my favorite music...\n",
       "3   pos  Excellent Soundtrack: I truly like this soundt...\n",
       "4   pos  Remember, Pull Your Jaw Off The Floor After He..."
      ]
     },
     "execution_count": 3,
     "metadata": {},
     "output_type": "execute_result"
    }
   ],
   "source": [
    "df= pd.read_csv('amazonreviews.tsv', sep='\\t', dtype=str)\n",
    "df.head()\n"
   ]
  },
  {
   "cell_type": "code",
   "execution_count": 4,
   "metadata": {},
   "outputs": [
    {
     "data": {
      "text/plain": [
       "(10000, 2)"
      ]
     },
     "execution_count": 4,
     "metadata": {},
     "output_type": "execute_result"
    }
   ],
   "source": [
    "# size of dataset\n",
    "df.shape"
   ]
  },
  {
   "cell_type": "code",
   "execution_count": 5,
   "metadata": {},
   "outputs": [
    {
     "data": {
      "text/plain": [
       "neg    5097\n",
       "pos    4903\n",
       "Name: label, dtype: int64"
      ]
     },
     "execution_count": 5,
     "metadata": {},
     "output_type": "execute_result"
    }
   ],
   "source": [
    "df['label'].value_counts()\n"
   ]
  },
  {
   "cell_type": "code",
   "execution_count": 6,
   "metadata": {},
   "outputs": [],
   "source": [
    "# Removing null values\n",
    "df.isnull().sum()\n",
    "df.dropna(inplace=True)\n"
   ]
  },
  {
   "cell_type": "code",
   "execution_count": 7,
   "metadata": {},
   "outputs": [
    {
     "data": {
      "text/plain": [
       "<AxesSubplot:ylabel='label'>"
      ]
     },
     "execution_count": 7,
     "metadata": {},
     "output_type": "execute_result"
    },
    {
     "data": {
      "image/png": "[encoded data removed]",
      "text/plain": [
       "<Figure size 432x288 with 1 Axes>"
      ]
     },
     "metadata": {},
     "output_type": "display_data"
    }
   ],
   "source": [
    "df['label'].value_counts().sort_values().plot(kind = 'pie')\n"
   ]
  },
  {
   "cell_type": "markdown",
   "metadata": {},
   "source": [
    "### Cleaning Our data-set"
   ]
  },
  {
   "cell_type": "code",
   "execution_count": 8,
   "metadata": {},
   "outputs": [],
   "source": [
    "#removing empty strings \n",
    "blanks = [] \n",
    "\n",
    "for i,lb,rv in df.itertuples():  \n",
    "    if type(rv)==str:            \n",
    "        if rv.isspace():         \n",
    "            blanks.append(i)     \n",
    "        \n",
    "df.drop(blanks, inplace=True)"
   ]
  },
  {
   "cell_type": "code",
   "execution_count": 9,
   "metadata": {},
   "outputs": [],
   "source": [
    "#split data-set to train and test\n",
    "X=df['review']\n",
    "y=df['label']\n",
    "X_train, X_test, y_train, y_test = train_test_split(X, y, test_size=0.33, random_state=42)"
   ]
  },
  {
   "cell_type": "code",
   "execution_count": 10,
   "metadata": {},
   "outputs": [
    {
     "data": {
      "text/plain": [
       "0       Stuning even for the non-gamer: This sound tra...\n",
       "1       The best soundtrack ever to anything.: I'm rea...\n",
       "2       Amazing!: This soundtrack is my favorite music...\n",
       "3       Excellent Soundtrack: I truly like this soundt...\n",
       "4       Remember, Pull Your Jaw Off The Floor After He...\n",
       "                              ...                        \n",
       "9995    A revelation of life in small town America in ...\n",
       "9996    Great biography of a very interesting journali...\n",
       "9997    Interesting Subject; Poor Presentation: You'd ...\n",
       "9998    Don't buy: The box looked used and it is obvio...\n",
       "9999    Beautiful Pen and Fast Delivery.: The pen was ...\n",
       "Name: review, Length: 10000, dtype: object"
      ]
     },
     "execution_count": 10,
     "metadata": {},
     "output_type": "execute_result"
    }
   ],
   "source": [
    "X"
   ]
  },
  {
   "cell_type": "markdown",
   "metadata": {},
   "source": [
    "## 1. Logistic Regression "
   ]
  },
  {
   "cell_type": "code",
   "execution_count": 11,
   "metadata": {},
   "outputs": [
    {
     "data": {
      "text/plain": [
       "Pipeline(steps=[('tfidf', TfidfVectorizer(lowercase=False)),\n",
       "                ('clf', LogisticRegression())])"
      ]
     },
     "execution_count": 11,
     "metadata": {},
     "output_type": "execute_result"
    }
   ],
   "source": [
    "#Training the model \n",
    "from sklearn.linear_model import LogisticRegression\n",
    "# The pipeline: tf-idf vectorizer and logistic regression model  \n",
    "lr_model=Pipeline([('tfidf', TfidfVectorizer(lowercase=False)),( 'clf',LogisticRegression(solver='lbfgs'))])\n",
    "\n",
    "lr_model.fit(X_train,y_train)\n",
    "\n"
   ]
  },
  {
   "cell_type": "markdown",
   "metadata": {},
   "source": []
  },
  {
   "cell_type": "code",
   "execution_count": 12,
   "metadata": {},
   "outputs": [
    {
     "data": {
      "text/html": [
       "<style type=\"text/css\">\n",
       "#T_5ef24_row0_col0, #T_5ef24_row1_col1, #T_5ef24_row1_col2, #T_5ef24_row2_col2, #T_5ef24_row2_col3, #T_5ef24_row3_col2, #T_5ef24_row4_col2 {\n",
       "  background-color: #ebf3eb;\n",
       "  color: #000000;\n",
       "}\n",
       "#T_5ef24_row0_col1, #T_5ef24_row0_col2, #T_5ef24_row1_col0, #T_5ef24_row3_col3, #T_5ef24_row4_col3 {\n",
       "  background-color: #008000;\n",
       "  color: #f1f1f1;\n",
       "}\n",
       "#T_5ef24_row0_col3 {\n",
       "  background-color: #76ba76;\n",
       "  color: #f1f1f1;\n",
       "}\n",
       "#T_5ef24_row1_col3 {\n",
       "  background-color: #75b975;\n",
       "  color: #f1f1f1;\n",
       "}\n",
       "#T_5ef24_row2_col0, #T_5ef24_row3_col0, #T_5ef24_row4_col0 {\n",
       "  background-color: #9ccd9c;\n",
       "  color: #000000;\n",
       "}\n",
       "#T_5ef24_row2_col1, #T_5ef24_row3_col1, #T_5ef24_row4_col1 {\n",
       "  background-color: #8dc58d;\n",
       "  color: #000000;\n",
       "}\n",
       "</style>\n",
       "<table id=\"T_5ef24_\">\n",
       "  <thead>\n",
       "    <tr>\n",
       "      <th class=\"blank level0\" >&nbsp;</th>\n",
       "      <th class=\"col_heading level0 col0\" >precision</th>\n",
       "      <th class=\"col_heading level0 col1\" >recall</th>\n",
       "      <th class=\"col_heading level0 col2\" >f1-score</th>\n",
       "      <th class=\"col_heading level0 col3\" >support</th>\n",
       "    </tr>\n",
       "  </thead>\n",
       "  <tbody>\n",
       "    <tr>\n",
       "      <th id=\"T_5ef24_level0_row0\" class=\"row_heading level0 row0\" >neg</th>\n",
       "      <td id=\"T_5ef24_row0_col0\" class=\"data row0 col0\" >0.840000</td>\n",
       "      <td id=\"T_5ef24_row0_col1\" class=\"data row0 col1\" >0.880000</td>\n",
       "      <td id=\"T_5ef24_row0_col2\" class=\"data row0 col2\" >0.860000</td>\n",
       "      <td id=\"T_5ef24_row0_col3\" class=\"data row0 col3\" >1649.000000</td>\n",
       "    </tr>\n",
       "    <tr>\n",
       "      <th id=\"T_5ef24_level0_row1\" class=\"row_heading level0 row1\" >pos</th>\n",
       "      <td id=\"T_5ef24_row1_col0\" class=\"data row1 col0\" >0.870000</td>\n",
       "      <td id=\"T_5ef24_row1_col1\" class=\"data row1 col1\" >0.830000</td>\n",
       "      <td id=\"T_5ef24_row1_col2\" class=\"data row1 col2\" >0.850000</td>\n",
       "      <td id=\"T_5ef24_row1_col3\" class=\"data row1 col3\" >1651.000000</td>\n",
       "    </tr>\n",
       "    <tr>\n",
       "      <th id=\"T_5ef24_level0_row2\" class=\"row_heading level0 row2\" >accuracy</th>\n",
       "      <td id=\"T_5ef24_row2_col0\" class=\"data row2 col0\" >0.850000</td>\n",
       "      <td id=\"T_5ef24_row2_col1\" class=\"data row2 col1\" >0.850000</td>\n",
       "      <td id=\"T_5ef24_row2_col2\" class=\"data row2 col2\" >0.850000</td>\n",
       "      <td id=\"T_5ef24_row2_col3\" class=\"data row2 col3\" >0.850000</td>\n",
       "    </tr>\n",
       "    <tr>\n",
       "      <th id=\"T_5ef24_level0_row3\" class=\"row_heading level0 row3\" >macro avg</th>\n",
       "      <td id=\"T_5ef24_row3_col0\" class=\"data row3 col0\" >0.850000</td>\n",
       "      <td id=\"T_5ef24_row3_col1\" class=\"data row3 col1\" >0.850000</td>\n",
       "      <td id=\"T_5ef24_row3_col2\" class=\"data row3 col2\" >0.850000</td>\n",
       "      <td id=\"T_5ef24_row3_col3\" class=\"data row3 col3\" >3300.000000</td>\n",
       "    </tr>\n",
       "    <tr>\n",
       "      <th id=\"T_5ef24_level0_row4\" class=\"row_heading level0 row4\" >weighted avg</th>\n",
       "      <td id=\"T_5ef24_row4_col0\" class=\"data row4 col0\" >0.850000</td>\n",
       "      <td id=\"T_5ef24_row4_col1\" class=\"data row4 col1\" >0.850000</td>\n",
       "      <td id=\"T_5ef24_row4_col2\" class=\"data row4 col2\" >0.850000</td>\n",
       "      <td id=\"T_5ef24_row4_col3\" class=\"data row4 col3\" >3300.000000</td>\n",
       "    </tr>\n",
       "  </tbody>\n",
       "</table>\n"
      ],
      "text/plain": [
       "<pandas.io.formats.style.Styler at 0x141bb2a46d0>"
      ]
     },
     "execution_count": 12,
     "metadata": {},
     "output_type": "execute_result"
    }
   ],
   "source": [
    "#Visualizing Classification Report \n",
    "predictions= lr_model.predict(X_test)\n",
    "report = classification_report(y_test,predictions, output_dict=True)\n",
    "\n",
    "df_report = pd.DataFrame(report).transpose().round(2)\n",
    "\n",
    "#df_report.style.background_gradient(cmap='greens').set_precision(2)\n",
    "cm = sns.light_palette(\"green\", as_cmap=True)\n",
    "df_report.style.background_gradient(cmap=cm)"
   ]
  },
  {
   "cell_type": "code",
   "execution_count": 13,
   "metadata": {},
   "outputs": [
    {
     "data": {
      "image/png": "[encoded data removed]",
      "text/plain": [
       "<Figure size 432x288 with 2 Axes>"
      ]
     },
     "metadata": {
      "needs_background": "light"
     },
     "output_type": "display_data"
    }
   ],
   "source": [
    "# Visualizing Confusion Matrix \n",
    "import matplotlib.pyplot as plt\n",
    "ax= plt.subplot()\n",
    "cm=confusion_matrix(y_test,predictions)\n",
    "\n",
    "sns.heatmap(cm, annot=True, fmt='g', ax=ax,cmap='Greens');  \n",
    "\n",
    "\n",
    "# labels, title and ticks\n",
    "ax.set_xlabel('Predicted labels');ax.set_ylabel('True labels');\n",
    "ax.set_title('Confusion Matrix');\n",
    "ax.xaxis.set_ticklabels(['neg', 'pos']); ax.yaxis.set_ticklabels(['neg', 'pos']);"
   ]
  },
  {
   "cell_type": "markdown",
   "metadata": {},
   "source": [
    "## 2. SVM : Linear SVC \n"
   ]
  },
  {
   "cell_type": "code",
   "execution_count": 14,
   "metadata": {},
   "outputs": [
    {
     "data": {
      "text/plain": [
       "Pipeline(steps=[('tfidf', TfidfVectorizer()), ('classifier', LinearSVC())])"
      ]
     },
     "execution_count": 14,
     "metadata": {},
     "output_type": "execute_result"
    }
   ],
   "source": [
    "#pipeline(choose vectorizer, choose model)\n",
    "my_model=Pipeline([('tfidf', TfidfVectorizer()),('classifier',LinearSVC())])\n",
    "#the training \n",
    "my_model.fit(X_train,y_train)"
   ]
  },
  {
   "cell_type": "code",
   "execution_count": 30,
   "metadata": {},
   "outputs": [],
   "source": [
    "import pickle\n",
    "pickle.dump(my_model, open('my_model.pkl', 'wb'))"
   ]
  },
  {
   "cell_type": "code",
   "execution_count": 15,
   "metadata": {},
   "outputs": [
    {
     "data": {
      "text/html": [
       "<style type=\"text/css\">\n",
       "#T_f6ee3_row0_col0, #T_f6ee3_row0_col2, #T_f6ee3_row1_col1, #T_f6ee3_row1_col2, #T_f6ee3_row2_col2, #T_f6ee3_row2_col3, #T_f6ee3_row3_col2, #T_f6ee3_row4_col2 {\n",
       "  background-color: #ebf3eb;\n",
       "  color: #000000;\n",
       "}\n",
       "#T_f6ee3_row0_col1, #T_f6ee3_row1_col0, #T_f6ee3_row3_col3, #T_f6ee3_row4_col3 {\n",
       "  background-color: #008000;\n",
       "  color: #f1f1f1;\n",
       "}\n",
       "#T_f6ee3_row0_col3 {\n",
       "  background-color: #76ba76;\n",
       "  color: #f1f1f1;\n",
       "}\n",
       "#T_f6ee3_row1_col3, #T_f6ee3_row2_col1, #T_f6ee3_row3_col1, #T_f6ee3_row4_col1 {\n",
       "  background-color: #75b975;\n",
       "  color: #f1f1f1;\n",
       "}\n",
       "#T_f6ee3_row2_col0, #T_f6ee3_row3_col0, #T_f6ee3_row4_col0 {\n",
       "  background-color: #9ccd9c;\n",
       "  color: #000000;\n",
       "}\n",
       "</style>\n",
       "<table id=\"T_f6ee3_\">\n",
       "  <thead>\n",
       "    <tr>\n",
       "      <th class=\"blank level0\" >&nbsp;</th>\n",
       "      <th class=\"col_heading level0 col0\" >precision</th>\n",
       "      <th class=\"col_heading level0 col1\" >recall</th>\n",
       "      <th class=\"col_heading level0 col2\" >f1-score</th>\n",
       "      <th class=\"col_heading level0 col3\" >support</th>\n",
       "    </tr>\n",
       "  </thead>\n",
       "  <tbody>\n",
       "    <tr>\n",
       "      <th id=\"T_f6ee3_level0_row0\" class=\"row_heading level0 row0\" >neg</th>\n",
       "      <td id=\"T_f6ee3_row0_col0\" class=\"data row0 col0\" >0.860000</td>\n",
       "      <td id=\"T_f6ee3_row0_col1\" class=\"data row0 col1\" >0.890000</td>\n",
       "      <td id=\"T_f6ee3_row0_col2\" class=\"data row0 col2\" >0.870000</td>\n",
       "      <td id=\"T_f6ee3_row0_col3\" class=\"data row0 col3\" >1649.000000</td>\n",
       "    </tr>\n",
       "    <tr>\n",
       "      <th id=\"T_f6ee3_level0_row1\" class=\"row_heading level0 row1\" >pos</th>\n",
       "      <td id=\"T_f6ee3_row1_col0\" class=\"data row1 col0\" >0.890000</td>\n",
       "      <td id=\"T_f6ee3_row1_col1\" class=\"data row1 col1\" >0.850000</td>\n",
       "      <td id=\"T_f6ee3_row1_col2\" class=\"data row1 col2\" >0.870000</td>\n",
       "      <td id=\"T_f6ee3_row1_col3\" class=\"data row1 col3\" >1651.000000</td>\n",
       "    </tr>\n",
       "    <tr>\n",
       "      <th id=\"T_f6ee3_level0_row2\" class=\"row_heading level0 row2\" >accuracy</th>\n",
       "      <td id=\"T_f6ee3_row2_col0\" class=\"data row2 col0\" >0.870000</td>\n",
       "      <td id=\"T_f6ee3_row2_col1\" class=\"data row2 col1\" >0.870000</td>\n",
       "      <td id=\"T_f6ee3_row2_col2\" class=\"data row2 col2\" >0.870000</td>\n",
       "      <td id=\"T_f6ee3_row2_col3\" class=\"data row2 col3\" >0.870000</td>\n",
       "    </tr>\n",
       "    <tr>\n",
       "      <th id=\"T_f6ee3_level0_row3\" class=\"row_heading level0 row3\" >macro avg</th>\n",
       "      <td id=\"T_f6ee3_row3_col0\" class=\"data row3 col0\" >0.870000</td>\n",
       "      <td id=\"T_f6ee3_row3_col1\" class=\"data row3 col1\" >0.870000</td>\n",
       "      <td id=\"T_f6ee3_row3_col2\" class=\"data row3 col2\" >0.870000</td>\n",
       "      <td id=\"T_f6ee3_row3_col3\" class=\"data row3 col3\" >3300.000000</td>\n",
       "    </tr>\n",
       "    <tr>\n",
       "      <th id=\"T_f6ee3_level0_row4\" class=\"row_heading level0 row4\" >weighted avg</th>\n",
       "      <td id=\"T_f6ee3_row4_col0\" class=\"data row4 col0\" >0.870000</td>\n",
       "      <td id=\"T_f6ee3_row4_col1\" class=\"data row4 col1\" >0.870000</td>\n",
       "      <td id=\"T_f6ee3_row4_col2\" class=\"data row4 col2\" >0.870000</td>\n",
       "      <td id=\"T_f6ee3_row4_col3\" class=\"data row4 col3\" >3300.000000</td>\n",
       "    </tr>\n",
       "  </tbody>\n",
       "</table>\n"
      ],
      "text/plain": [
       "<pandas.io.formats.style.Styler at 0x141baf21580>"
      ]
     },
     "execution_count": 15,
     "metadata": {},
     "output_type": "execute_result"
    }
   ],
   "source": [
    "#Visualizing Classification Report \n",
    "predictions= my_model.predict(X_test)\n",
    "report = classification_report(y_test,predictions, output_dict=True)\n",
    "\n",
    "df_report = pd.DataFrame(report).transpose().round(2)\n",
    "\n",
    "#df_report.style.background_gradient(cmap='greens').set_precision(2)\n",
    "cm = sns.light_palette(\"green\", as_cmap=True)\n",
    "df_report.style.background_gradient(cmap=cm)"
   ]
  },
  {
   "cell_type": "code",
   "execution_count": 16,
   "metadata": {},
   "outputs": [
    {
     "data": {
      "image/png": "[encoded data removed]",
      "text/plain": [
       "<Figure size 432x288 with 2 Axes>"
      ]
     },
     "metadata": {
      "needs_background": "light"
     },
     "output_type": "display_data"
    }
   ],
   "source": [
    "# Visualizing the confision matrix \n",
    "predictions=my_model.predict(X_test)\n",
    "import matplotlib.pyplot as plt\n",
    "import seaborn as sns\n",
    "ax= plt.subplot()\n",
    "cm=confusion_matrix(y_test,predictions)\n",
    "\n",
    "sns.heatmap(cm, annot=True, fmt='g', ax=ax,cmap='Greens');  \n",
    "\n",
    "\n",
    "# labels, title and ticks\n",
    "ax.set_xlabel('Predicted labels');ax.set_ylabel('True labels');\n",
    "ax.set_title('Confusion Matrix');\n",
    "ax.xaxis.set_ticklabels(['neg', 'pos']); ax.yaxis.set_ticklabels(['neg', 'pos']);"
   ]
  },
  {
   "cell_type": "code",
   "execution_count": 17,
   "metadata": {},
   "outputs": [],
   "source": [
    "x = my_model.predict(X_test)"
   ]
  },
  {
   "cell_type": "code",
   "execution_count": 18,
   "metadata": {},
   "outputs": [
    {
     "data": {
      "text/plain": [
       "array(['neg', 'neg', 'neg', ..., 'neg', 'pos', 'pos'], dtype=object)"
      ]
     },
     "execution_count": 18,
     "metadata": {},
     "output_type": "execute_result"
    }
   ],
   "source": [
    "x"
   ]
  }
 ],
 "metadata": {
  "interpreter": {
   "hash": "916dbcbb3f70747c44a77c7bcd40155683ae19c65e1c03b4aa3499c5328201f1"
  },
  "kernelspec": {
   "display_name": "Python 3 (ipykernel)",
   "language": "python",
   "name": "python3"
  },
  "language_info": {
   "codemirror_mode": {
    "name": "ipython",
    "version": 3
   },
   "file_extension": ".py",
   "mimetype": "text/x-python",
   "name": "python",
   "nbconvert_exporter": "python",
   "pygments_lexer": "ipython3",
   "version": "3.9.7"
  }
 },
 "nbformat": 4,
 "nbformat_minor": 2
}
